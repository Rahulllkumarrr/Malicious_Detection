{
  "nbformat": 4,
  "nbformat_minor": 0,
  "metadata": {
    "colab": {
      "name": "UnSupervisedLearningCode.ipynb",
      "version": "0.3.2",
      "provenance": [],
      "include_colab_link": true
    },
    "kernelspec": {
      "name": "python3",
      "display_name": "Python 3"
    },
    "accelerator": "TPU"
  },
  "cells": [
    {
      "cell_type": "markdown",
      "metadata": {
        "id": "view-in-github",
        "colab_type": "text"
      },
      "source": [
        "<a href=\"https://colab.research.google.com/github/Rahulllkumarrr/Malicious_Detection/blob/master/UnSupervisedLearningCode.ipynb\" target=\"_parent\"><img src=\"https://colab.research.google.com/assets/colab-badge.svg\" alt=\"Open In Colab\"/></a>"
      ]
    },
    {
      "cell_type": "code",
      "metadata": {
        "id": "VX1BsLntMr6N",
        "colab_type": "code",
        "colab": {}
      },
      "source": [
        "import pandas as pd\n",
        "import numpy as np\n",
        "import matplotlib.pyplot as plt\n",
        "from sklearn.cluster import KMeans\n",
        "from sklearn.preprocessing import StandardScaler as SS\n",
        "from sklearn.decomposition import PCA,NMF,LatentDirichletAllocation\n",
        "from sklearn.decomposition import TruncatedSVD as SVD\n",
        "import pickle\n",
        "%matplotlib inline\n",
        "import matplotlib.pyplot as plt"
      ],
      "execution_count": 0,
      "outputs": []
    },
    {
      "cell_type": "code",
      "metadata": {
        "id": "oFliIioZM2RR",
        "colab_type": "code",
        "colab": {}
      },
      "source": [
        "rows=[\"Length\",\"Time To Live\",\"Protocol\",\"Source IP\",\"Destination IP\",\"SOURCE PORT\",\"Destination port\"]\n",
        "protocols=[\"TCP\",\"UDP\"]"
      ],
      "execution_count": 0,
      "outputs": []
    },
    {
      "cell_type": "code",
      "metadata": {
        "id": "LJD7fkxPtFbn",
        "colab_type": "code",
        "colab": {}
      },
      "source": [
        "file01=pd.read_csv(\"file01.csv\")\n",
        "file02=pd.read_csv(\"file02.csv\")\n",
        "file03=pd.read_csv(\"file03.csv\")\n",
        "Normal01=pd.read_csv(\"Normal01.csv\")\n",
        "Normal02=pd.read_csv(\"Normal02.csv\")\n",
        "\n",
        "file01=file01[rows]\n",
        "file02=file02[rows]\n",
        "file03=file03[rows]\n",
        "Normal01=Normal01[rows]\n",
        "Normal02=Normal02[rows]\n"
      ],
      "execution_count": 0,
      "outputs": []
    },
    {
      "cell_type": "code",
      "metadata": {
        "id": "vGyrrsCnzGPv",
        "colab_type": "code",
        "colab": {}
      },
      "source": [
        "data=pd.concat([file01,file02,file03])\n",
        "normal=pd.concat([Normal01,Normal02])"
      ],
      "execution_count": 0,
      "outputs": []
    },
    {
      "cell_type": "code",
      "metadata": {
        "id": "sl__AxxZzSh9",
        "colab_type": "code",
        "colab": {}
      },
      "source": [
        "data[\"Protocol\"]=data[\"Protocol\"].astype('category').cat.codes\n"
      ],
      "execution_count": 0,
      "outputs": []
    },
    {
      "cell_type": "code",
      "metadata": {
        "id": "kabSoGkoznV9",
        "colab_type": "code",
        "colab": {}
      },
      "source": [
        "def IP_to_num(data):\n",
        "    CLASS=[]\n",
        "    for i,row in enumerate(data):\n",
        "        row=row.split(\".\")\n",
        "        CLASS.append(int(row[0]))\n",
        "\n",
        "    data=pd.Series(CLASS)\n",
        "    return data"
      ],
      "execution_count": 0,
      "outputs": []
    },
    {
      "cell_type": "code",
      "metadata": {
        "id": "9mvLsB6YOPoz",
        "colab_type": "code",
        "colab": {}
      },
      "source": [
        "data=data.dropna()"
      ],
      "execution_count": 0,
      "outputs": []
    },
    {
      "cell_type": "code",
      "metadata": {
        "id": "Rhax1DSdz6oR",
        "colab_type": "code",
        "colab": {}
      },
      "source": [
        "data[\"Source IP\"]=IP_to_num(data[\"Source IP\"]).astype(\"int\")\n",
        "data[\"Destination IP\"]=IP_to_num(data[\"Destination IP\"]).astype(\"int\")"
      ],
      "execution_count": 0,
      "outputs": []
    },
    {
      "cell_type": "code",
      "metadata": {
        "id": "vOolrJgNOBkC",
        "colab_type": "code",
        "outputId": "6ad08547-6f32-45d6-ece1-a5039f0d7553",
        "colab": {
          "base_uri": "https://localhost:8080/",
          "height": 153
        }
      },
      "source": [
        "data.isna().any()"
      ],
      "execution_count": 0,
      "outputs": [
        {
          "output_type": "execute_result",
          "data": {
            "text/plain": [
              "Length              False\n",
              "Time To Live        False\n",
              "Protocol            False\n",
              "Source IP           False\n",
              "Destination IP      False\n",
              "SOURCE PORT         False\n",
              "Destination port    False\n",
              "dtype: bool"
            ]
          },
          "metadata": {
            "tags": []
          },
          "execution_count": 9
        }
      ]
    },
    {
      "cell_type": "code",
      "metadata": {
        "id": "vbI0jGcJ0AUD",
        "colab_type": "code",
        "colab": {}
      },
      "source": [
        "# data\n",
        "# rows=[\"Length\",\"Time To Live\",\"Protocol\",\"Source IP\",\"Destination IP\",\"SOURCE PORT\",\"Destination port\"]"
      ],
      "execution_count": 0,
      "outputs": []
    },
    {
      "cell_type": "code",
      "metadata": {
        "id": "F4eq4-1i2clT",
        "colab_type": "code",
        "colab": {}
      },
      "source": [
        "# data[\"Length\"]=data[\"Length\"]/max(data[\"Length\"])\n",
        "# data[\"Time To Live\"]=data[\"Time To Live\"]/max(data[\"Time To Live\"])\n",
        "# data[\"Source IP\"]=data[\"Source IP\"]/255\n",
        "# data[\"Destination IP\"]=data[\"Destination IP\"]/255\n",
        "# data[\"SOURCE PORT\"]=data[\"SOURCE PORT\"]/65535\n",
        "# data[\"Destination port\"]=data[\"Destination port\"]/65535"
      ],
      "execution_count": 0,
      "outputs": []
    },
    {
      "cell_type": "code",
      "metadata": {
        "id": "gfZ71XYN5QTQ",
        "colab_type": "code",
        "colab": {}
      },
      "source": [
        "# data.max()"
      ],
      "execution_count": 0,
      "outputs": []
    },
    {
      "cell_type": "code",
      "metadata": {
        "id": "Q8uLBjyp1BwG",
        "colab_type": "code",
        "colab": {}
      },
      "source": [
        "# import random\n",
        "# num=[random.randint(0, 200000) for r in range(20000)]"
      ],
      "execution_count": 0,
      "outputs": []
    },
    {
      "cell_type": "code",
      "metadata": {
        "id": "O_9z2bWI2gXT",
        "colab_type": "code",
        "colab": {}
      },
      "source": [
        "# randomRows=[]\n",
        "# for row in num:\n",
        "#   randomRows.append(data.iloc[row,:])\n",
        "# ranRow=pd.DataFrame(randomRows,columns=rows)"
      ],
      "execution_count": 0,
      "outputs": []
    },
    {
      "cell_type": "code",
      "metadata": {
        "id": "-qtxT9PY149D",
        "colab_type": "code",
        "colab": {}
      },
      "source": [
        "# for i in range(len(rows)-1):\n",
        "#   for j in range(1,len(rows)):\n",
        "#     if j>i:\n",
        "#       print(i,j)\n",
        "#       plt.scatter(ranRow.iloc[:,i],ranRow.iloc[:,j])\n",
        "#       plt.xlabel(rows[i])\n",
        "#       plt.ylabel(rows[j])\n",
        "#       plt.show()\n",
        "# plt.show()"
      ],
      "execution_count": 0,
      "outputs": []
    },
    {
      "cell_type": "code",
      "metadata": {
        "id": "c-bpGFy19pcw",
        "colab_type": "code",
        "colab": {}
      },
      "source": [
        "# svd=LatentDirichletAllocation(n_components=2,batch_size=10000)\n",
        "# reduced=svd.fit_transform(ranRow)"
      ],
      "execution_count": 0,
      "outputs": []
    },
    {
      "cell_type": "code",
      "metadata": {
        "id": "qffVWGWl9pbn",
        "colab_type": "code",
        "colab": {}
      },
      "source": [
        "# plt.scatter(reduced[:,1],reduced[:,0])\n",
        "# plt.show()"
      ],
      "execution_count": 0,
      "outputs": []
    },
    {
      "cell_type": "code",
      "metadata": {
        "id": "0HIakkT0_NP9",
        "colab_type": "code",
        "outputId": "3771c1ab-fe63-48db-a1e7-9063d3e617ea",
        "colab": {
          "base_uri": "https://localhost:8080/",
          "height": 68
        }
      },
      "source": [
        "Model=KMeans(n_clusters=2,max_iter=300)\n",
        "Model.fit(data)"
      ],
      "execution_count": 0,
      "outputs": [
        {
          "output_type": "execute_result",
          "data": {
            "text/plain": [
              "KMeans(algorithm='auto', copy_x=True, init='k-means++', max_iter=300,\n",
              "       n_clusters=2, n_init=10, n_jobs=None, precompute_distances='auto',\n",
              "       random_state=None, tol=0.0001, verbose=0)"
            ]
          },
          "metadata": {
            "tags": []
          },
          "execution_count": 18
        }
      ]
    },
    {
      "cell_type": "code",
      "metadata": {
        "id": "aHfss0-oA-5F",
        "colab_type": "code",
        "colab": {}
      },
      "source": [
        "Centers=Model.cluster_centers_\n",
        "label=Model.labels_"
      ],
      "execution_count": 0,
      "outputs": []
    },
    {
      "cell_type": "code",
      "metadata": {
        "id": "xs1rjrMRBy5P",
        "colab_type": "code",
        "colab": {}
      },
      "source": [
        "data[\"Label\"]=label"
      ],
      "execution_count": 0,
      "outputs": []
    },
    {
      "cell_type": "code",
      "metadata": {
        "id": "IxI1SvqNB7w5",
        "colab_type": "code",
        "colab": {}
      },
      "source": [
        "data.to_csv(\"MaliciousPacketAnalysis02.csv\",index=False)"
      ],
      "execution_count": 0,
      "outputs": []
    },
    {
      "cell_type": "code",
      "metadata": {
        "id": "v1tpc2HUiDue",
        "colab_type": "code",
        "outputId": "47cc1af9-584f-4c82-cae7-382df16f07ba",
        "colab": {
          "base_uri": "https://localhost:8080/",
          "height": 238
        }
      },
      "source": [
        "data.info()"
      ],
      "execution_count": 0,
      "outputs": [
        {
          "output_type": "stream",
          "text": [
            "<class 'pandas.core.frame.DataFrame'>\n",
            "Int64Index: 4995107 entries, 0 to 1998411\n",
            "Data columns (total 8 columns):\n",
            "Length              int64\n",
            "Time To Live        int64\n",
            "Protocol            int8\n",
            "Source IP           int64\n",
            "Destination IP      int64\n",
            "SOURCE PORT         int64\n",
            "Destination port    int64\n",
            "Label               int32\n",
            "dtypes: int32(1), int64(6), int8(1)\n",
            "memory usage: 290.6 MB\n"
          ],
          "name": "stdout"
        }
      ]
    },
    {
      "cell_type": "code",
      "metadata": {
        "id": "vBg8QpskiFqw",
        "colab_type": "code",
        "outputId": "edbda331-1be8-4256-bd3c-3ab8716a25f5",
        "colab": {
          "base_uri": "https://localhost:8080/",
          "height": 34
        }
      },
      "source": [
        "data.shape"
      ],
      "execution_count": 0,
      "outputs": [
        {
          "output_type": "execute_result",
          "data": {
            "text/plain": [
              "(4995107, 8)"
            ]
          },
          "metadata": {
            "tags": []
          },
          "execution_count": 23
        }
      ]
    },
    {
      "cell_type": "code",
      "metadata": {
        "id": "9UEBPLi8qaR_",
        "colab_type": "code",
        "colab": {}
      },
      "source": [
        "normal[\"Protocol\"]=normal[\"Protocol\"].astype('category').cat.codes"
      ],
      "execution_count": 0,
      "outputs": []
    },
    {
      "cell_type": "code",
      "metadata": {
        "id": "iqvCrXKEqgXV",
        "colab_type": "code",
        "colab": {}
      },
      "source": [
        "normal[\"Source IP\"]=IP_to_num(normal[\"Source IP\"]).astype(\"int\")\n",
        "normal[\"Destination IP\"]=IP_to_num(normal[\"Destination IP\"]).astype(\"int\")"
      ],
      "execution_count": 0,
      "outputs": []
    },
    {
      "cell_type": "code",
      "metadata": {
        "id": "LutCP68Aqodt",
        "colab_type": "code",
        "colab": {}
      },
      "source": [
        "normal[\"Label\"]=0"
      ],
      "execution_count": 0,
      "outputs": []
    },
    {
      "cell_type": "code",
      "metadata": {
        "id": "GHuLXygSwt5a",
        "colab_type": "code",
        "colab": {}
      },
      "source": [
        "normal.to_csv(\"NormalPacketAnalysis01.csv\",index=False)"
      ],
      "execution_count": 0,
      "outputs": []
    },
    {
      "cell_type": "code",
      "metadata": {
        "id": "y7FNfjdm3CVQ",
        "colab_type": "code",
        "colab": {}
      },
      "source": [
        "data=pd.read_csv(\"MaliciousPacketAnalysis02.csv\")\n",
        "normal=pd.read_csv(\"NormalPacketAnalysis01.csv\")"
      ],
      "execution_count": 0,
      "outputs": []
    },
    {
      "cell_type": "code",
      "metadata": {
        "id": "9ELAaIl53CYI",
        "colab_type": "code",
        "colab": {}
      },
      "source": [
        "Complete=pd.concat([normal,data])"
      ],
      "execution_count": 0,
      "outputs": []
    },
    {
      "cell_type": "code",
      "metadata": {
        "id": "rGVIHSs13b_A",
        "colab_type": "code",
        "colab": {}
      },
      "source": [
        "Complete.to_csv(\"SequencialComplete.csv\")"
      ],
      "execution_count": 0,
      "outputs": []
    },
    {
      "cell_type": "code",
      "metadata": {
        "id": "-SL7nAVb3u7y",
        "colab_type": "code",
        "colab": {}
      },
      "source": [
        "from sklearn.utils import shuffle\n",
        "suffled=shuffle(Complete,random_state=0).reset_index()\n",
        "rows=[\"Length\",\"Time To Live\",\"Protocol\",\"Source IP\",\"Destination IP\",\"SOURCE PORT\",\"Destination port\",\"Label\"]\n",
        "suffled=suffled[rows]"
      ],
      "execution_count": 0,
      "outputs": []
    },
    {
      "cell_type": "code",
      "metadata": {
        "id": "YKAixPBb4j8B",
        "colab_type": "code",
        "outputId": "0b7bbedf-7ac6-4cab-c9c0-088b270ecc0a",
        "colab": {
          "base_uri": "https://localhost:8080/",
          "height": 34
        }
      },
      "source": [
        "suffled.shape"
      ],
      "execution_count": 0,
      "outputs": [
        {
          "output_type": "execute_result",
          "data": {
            "text/plain": [
              "(5938585, 8)"
            ]
          },
          "metadata": {
            "tags": []
          },
          "execution_count": 42
        }
      ]
    },
    {
      "cell_type": "code",
      "metadata": {
        "id": "1yI0RO0u5HiW",
        "colab_type": "code",
        "colab": {}
      },
      "source": [
        "suffled.to_csv(\"SuffledComplete.csv\")"
      ],
      "execution_count": 0,
      "outputs": []
    },
    {
      "cell_type": "code",
      "metadata": {
        "id": "SPbNaQV95P-Q",
        "colab_type": "code",
        "outputId": "64de7aa4-c9f6-44ac-ce20-5c51f53fd038",
        "colab": {
          "base_uri": "https://localhost:8080/",
          "height": 34
        }
      },
      "source": [
        "Complete.shape"
      ],
      "execution_count": 0,
      "outputs": [
        {
          "output_type": "execute_result",
          "data": {
            "text/plain": [
              "(5938585, 8)"
            ]
          },
          "metadata": {
            "tags": []
          },
          "execution_count": 41
        }
      ]
    }
  ]
}